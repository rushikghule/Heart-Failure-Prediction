{
 "cells": [
  {
   "cell_type": "code",
   "execution_count": 1,
   "id": "abebfd44",
   "metadata": {},
   "outputs": [],
   "source": [
    "# Import the required libraries\n",
    "import numpy as np\n",
    "import pandas as pd\n",
    "import warnings\n",
    "warnings.filterwarnings(\"ignore\")\n",
    "import matplotlib.pyplot as plt \n",
    "import seaborn as sns\n",
    "import pickle\n",
    "from sklearn.decomposition import PCA\n",
    "from imblearn.over_sampling import SMOTE  \n",
    "from sklearn.metrics import accuracy_score,classification_report\n",
    "from sklearn.model_selection import train_test_split\n",
    "from sklearn.preprocessing import StandardScaler\n",
    "from sklearn.svm import SVC\n",
    "from sklearn.metrics import accuracy_score\n",
    "from sklearn.linear_model import LogisticRegression\n",
    "from sklearn.naive_bayes import GaussianNB\n",
    "from sklearn.neighbors import KNeighborsClassifier\n",
    "from sklearn.tree import DecisionTreeClassifier\n",
    "from sklearn.ensemble import RandomForestClassifier\n",
    "from sklearn.model_selection import GridSearchCV"
   ]
  },
  {
   "cell_type": "code",
   "execution_count": 2,
   "id": "2973cc4a",
   "metadata": {},
   "outputs": [
    {
     "data": {
      "text/html": [
       "<div>\n",
       "<style scoped>\n",
       "    .dataframe tbody tr th:only-of-type {\n",
       "        vertical-align: middle;\n",
       "    }\n",
       "\n",
       "    .dataframe tbody tr th {\n",
       "        vertical-align: top;\n",
       "    }\n",
       "\n",
       "    .dataframe thead th {\n",
       "        text-align: right;\n",
       "    }\n",
       "</style>\n",
       "<table border=\"1\" class=\"dataframe\">\n",
       "  <thead>\n",
       "    <tr style=\"text-align: right;\">\n",
       "      <th></th>\n",
       "      <th>age</th>\n",
       "      <th>anaemia</th>\n",
       "      <th>creatinine_phosphokinase</th>\n",
       "      <th>diabetes</th>\n",
       "      <th>ejection_fraction</th>\n",
       "      <th>high_blood_pressure</th>\n",
       "      <th>platelets</th>\n",
       "      <th>serum_creatinine</th>\n",
       "      <th>serum_sodium</th>\n",
       "      <th>sex</th>\n",
       "      <th>smoking</th>\n",
       "      <th>time</th>\n",
       "      <th>cp</th>\n",
       "      <th>Cholesterol</th>\n",
       "      <th>MaxHR</th>\n",
       "      <th>Height</th>\n",
       "      <th>Weight</th>\n",
       "      <th>DEATH_EVENT</th>\n",
       "    </tr>\n",
       "  </thead>\n",
       "  <tbody>\n",
       "    <tr>\n",
       "      <th>0</th>\n",
       "      <td>75.0</td>\n",
       "      <td>0</td>\n",
       "      <td>582</td>\n",
       "      <td>0</td>\n",
       "      <td>20</td>\n",
       "      <td>1</td>\n",
       "      <td>265000.00</td>\n",
       "      <td>1.9</td>\n",
       "      <td>130</td>\n",
       "      <td>1</td>\n",
       "      <td>0</td>\n",
       "      <td>4</td>\n",
       "      <td>3</td>\n",
       "      <td>289</td>\n",
       "      <td>172</td>\n",
       "      <td>73.847017</td>\n",
       "      <td>241.893563</td>\n",
       "      <td>1</td>\n",
       "    </tr>\n",
       "    <tr>\n",
       "      <th>1</th>\n",
       "      <td>55.0</td>\n",
       "      <td>0</td>\n",
       "      <td>7861</td>\n",
       "      <td>0</td>\n",
       "      <td>38</td>\n",
       "      <td>0</td>\n",
       "      <td>263358.03</td>\n",
       "      <td>1.1</td>\n",
       "      <td>136</td>\n",
       "      <td>1</td>\n",
       "      <td>0</td>\n",
       "      <td>6</td>\n",
       "      <td>2</td>\n",
       "      <td>180</td>\n",
       "      <td>156</td>\n",
       "      <td>68.781904</td>\n",
       "      <td>162.310473</td>\n",
       "      <td>1</td>\n",
       "    </tr>\n",
       "    <tr>\n",
       "      <th>2</th>\n",
       "      <td>65.0</td>\n",
       "      <td>0</td>\n",
       "      <td>146</td>\n",
       "      <td>0</td>\n",
       "      <td>20</td>\n",
       "      <td>0</td>\n",
       "      <td>162000.00</td>\n",
       "      <td>1.3</td>\n",
       "      <td>129</td>\n",
       "      <td>1</td>\n",
       "      <td>1</td>\n",
       "      <td>7</td>\n",
       "      <td>1</td>\n",
       "      <td>283</td>\n",
       "      <td>98</td>\n",
       "      <td>74.110105</td>\n",
       "      <td>212.740856</td>\n",
       "      <td>1</td>\n",
       "    </tr>\n",
       "    <tr>\n",
       "      <th>3</th>\n",
       "      <td>50.0</td>\n",
       "      <td>1</td>\n",
       "      <td>111</td>\n",
       "      <td>0</td>\n",
       "      <td>20</td>\n",
       "      <td>0</td>\n",
       "      <td>210000.00</td>\n",
       "      <td>1.9</td>\n",
       "      <td>137</td>\n",
       "      <td>1</td>\n",
       "      <td>0</td>\n",
       "      <td>7</td>\n",
       "      <td>1</td>\n",
       "      <td>214</td>\n",
       "      <td>108</td>\n",
       "      <td>71.730978</td>\n",
       "      <td>220.042470</td>\n",
       "      <td>1</td>\n",
       "    </tr>\n",
       "    <tr>\n",
       "      <th>4</th>\n",
       "      <td>65.0</td>\n",
       "      <td>1</td>\n",
       "      <td>160</td>\n",
       "      <td>1</td>\n",
       "      <td>20</td>\n",
       "      <td>0</td>\n",
       "      <td>327000.00</td>\n",
       "      <td>2.7</td>\n",
       "      <td>116</td>\n",
       "      <td>0</td>\n",
       "      <td>0</td>\n",
       "      <td>8</td>\n",
       "      <td>0</td>\n",
       "      <td>195</td>\n",
       "      <td>122</td>\n",
       "      <td>69.881796</td>\n",
       "      <td>206.349801</td>\n",
       "      <td>1</td>\n",
       "    </tr>\n",
       "    <tr>\n",
       "      <th>...</th>\n",
       "      <td>...</td>\n",
       "      <td>...</td>\n",
       "      <td>...</td>\n",
       "      <td>...</td>\n",
       "      <td>...</td>\n",
       "      <td>...</td>\n",
       "      <td>...</td>\n",
       "      <td>...</td>\n",
       "      <td>...</td>\n",
       "      <td>...</td>\n",
       "      <td>...</td>\n",
       "      <td>...</td>\n",
       "      <td>...</td>\n",
       "      <td>...</td>\n",
       "      <td>...</td>\n",
       "      <td>...</td>\n",
       "      <td>...</td>\n",
       "      <td>...</td>\n",
       "    </tr>\n",
       "    <tr>\n",
       "      <th>294</th>\n",
       "      <td>62.0</td>\n",
       "      <td>0</td>\n",
       "      <td>61</td>\n",
       "      <td>1</td>\n",
       "      <td>38</td>\n",
       "      <td>1</td>\n",
       "      <td>155000.00</td>\n",
       "      <td>1.1</td>\n",
       "      <td>143</td>\n",
       "      <td>1</td>\n",
       "      <td>1</td>\n",
       "      <td>270</td>\n",
       "      <td>0</td>\n",
       "      <td>0</td>\n",
       "      <td>127</td>\n",
       "      <td>64.425194</td>\n",
       "      <td>169.109401</td>\n",
       "      <td>0</td>\n",
       "    </tr>\n",
       "    <tr>\n",
       "      <th>295</th>\n",
       "      <td>55.0</td>\n",
       "      <td>0</td>\n",
       "      <td>1820</td>\n",
       "      <td>0</td>\n",
       "      <td>38</td>\n",
       "      <td>0</td>\n",
       "      <td>270000.00</td>\n",
       "      <td>1.2</td>\n",
       "      <td>139</td>\n",
       "      <td>0</td>\n",
       "      <td>0</td>\n",
       "      <td>271</td>\n",
       "      <td>0</td>\n",
       "      <td>0</td>\n",
       "      <td>110</td>\n",
       "      <td>67.852131</td>\n",
       "      <td>194.744522</td>\n",
       "      <td>0</td>\n",
       "    </tr>\n",
       "    <tr>\n",
       "      <th>296</th>\n",
       "      <td>45.0</td>\n",
       "      <td>0</td>\n",
       "      <td>2060</td>\n",
       "      <td>1</td>\n",
       "      <td>60</td>\n",
       "      <td>0</td>\n",
       "      <td>742000.00</td>\n",
       "      <td>0.8</td>\n",
       "      <td>138</td>\n",
       "      <td>0</td>\n",
       "      <td>0</td>\n",
       "      <td>278</td>\n",
       "      <td>0</td>\n",
       "      <td>0</td>\n",
       "      <td>139</td>\n",
       "      <td>67.549069</td>\n",
       "      <td>183.266533</td>\n",
       "      <td>0</td>\n",
       "    </tr>\n",
       "    <tr>\n",
       "      <th>297</th>\n",
       "      <td>45.0</td>\n",
       "      <td>0</td>\n",
       "      <td>2413</td>\n",
       "      <td>0</td>\n",
       "      <td>38</td>\n",
       "      <td>0</td>\n",
       "      <td>140000.00</td>\n",
       "      <td>1.4</td>\n",
       "      <td>140</td>\n",
       "      <td>1</td>\n",
       "      <td>1</td>\n",
       "      <td>280</td>\n",
       "      <td>0</td>\n",
       "      <td>0</td>\n",
       "      <td>131</td>\n",
       "      <td>74.767447</td>\n",
       "      <td>210.369909</td>\n",
       "      <td>0</td>\n",
       "    </tr>\n",
       "    <tr>\n",
       "      <th>298</th>\n",
       "      <td>50.0</td>\n",
       "      <td>0</td>\n",
       "      <td>196</td>\n",
       "      <td>0</td>\n",
       "      <td>45</td>\n",
       "      <td>0</td>\n",
       "      <td>395000.00</td>\n",
       "      <td>1.6</td>\n",
       "      <td>136</td>\n",
       "      <td>1</td>\n",
       "      <td>1</td>\n",
       "      <td>285</td>\n",
       "      <td>0</td>\n",
       "      <td>0</td>\n",
       "      <td>92</td>\n",
       "      <td>71.418946</td>\n",
       "      <td>198.042484</td>\n",
       "      <td>0</td>\n",
       "    </tr>\n",
       "  </tbody>\n",
       "</table>\n",
       "<p>299 rows × 18 columns</p>\n",
       "</div>"
      ],
      "text/plain": [
       "      age  anaemia  creatinine_phosphokinase  diabetes  ejection_fraction  \\\n",
       "0    75.0        0                       582         0                 20   \n",
       "1    55.0        0                      7861         0                 38   \n",
       "2    65.0        0                       146         0                 20   \n",
       "3    50.0        1                       111         0                 20   \n",
       "4    65.0        1                       160         1                 20   \n",
       "..    ...      ...                       ...       ...                ...   \n",
       "294  62.0        0                        61         1                 38   \n",
       "295  55.0        0                      1820         0                 38   \n",
       "296  45.0        0                      2060         1                 60   \n",
       "297  45.0        0                      2413         0                 38   \n",
       "298  50.0        0                       196         0                 45   \n",
       "\n",
       "     high_blood_pressure  platelets  serum_creatinine  serum_sodium  sex  \\\n",
       "0                      1  265000.00               1.9           130    1   \n",
       "1                      0  263358.03               1.1           136    1   \n",
       "2                      0  162000.00               1.3           129    1   \n",
       "3                      0  210000.00               1.9           137    1   \n",
       "4                      0  327000.00               2.7           116    0   \n",
       "..                   ...        ...               ...           ...  ...   \n",
       "294                    1  155000.00               1.1           143    1   \n",
       "295                    0  270000.00               1.2           139    0   \n",
       "296                    0  742000.00               0.8           138    0   \n",
       "297                    0  140000.00               1.4           140    1   \n",
       "298                    0  395000.00               1.6           136    1   \n",
       "\n",
       "     smoking  time  cp  Cholesterol  MaxHR     Height      Weight  DEATH_EVENT  \n",
       "0          0     4   3          289    172  73.847017  241.893563            1  \n",
       "1          0     6   2          180    156  68.781904  162.310473            1  \n",
       "2          1     7   1          283     98  74.110105  212.740856            1  \n",
       "3          0     7   1          214    108  71.730978  220.042470            1  \n",
       "4          0     8   0          195    122  69.881796  206.349801            1  \n",
       "..       ...   ...  ..          ...    ...        ...         ...          ...  \n",
       "294        1   270   0            0    127  64.425194  169.109401            0  \n",
       "295        0   271   0            0    110  67.852131  194.744522            0  \n",
       "296        0   278   0            0    139  67.549069  183.266533            0  \n",
       "297        1   280   0            0    131  74.767447  210.369909            0  \n",
       "298        1   285   0            0     92  71.418946  198.042484            0  \n",
       "\n",
       "[299 rows x 18 columns]"
      ]
     },
     "execution_count": 2,
     "metadata": {},
     "output_type": "execute_result"
    }
   ],
   "source": [
    "heart_faliure_data = pd.read_csv(\"heart_update_.csv\")\n",
    "heart_faliure_data"
   ]
  },
  {
   "cell_type": "markdown",
   "id": "a0ed2ee3",
   "metadata": {},
   "source": [
    "## outlier"
   ]
  },
  {
   "cell_type": "code",
   "execution_count": 3,
   "id": "d8e7ce4f",
   "metadata": {},
   "outputs": [],
   "source": [
    "#most outlier column\n",
    "# creatinine_phosphokinase,platelets,serum_creatinine,serum_sodium,Cholesterol,Weight"
   ]
  },
  {
   "cell_type": "code",
   "execution_count": 4,
   "id": "0d6f8e10",
   "metadata": {},
   "outputs": [
    {
     "name": "stdout",
     "output_type": "stream",
     "text": [
      "First Quartile (Q1): 212500.0\n",
      "Third Quartile (Q3): 303500.0\n",
      "Interquartile Range (IQR): 91000.0\n"
     ]
    }
   ],
   "source": [
    "# Select the column of interest\n",
    "col1 = heart_faliure_data['platelets']\n",
    "col2 = heart_faliure_data['creatinine_phosphokinase']\n",
    "col3 = heart_faliure_data['serum_creatinine']\n",
    "\n",
    "# Calculate the first and third quartiles\n",
    "q1 = col1.quantile(0.25)\n",
    "q3 = col1.quantile(0.75)\n",
    "\n",
    "# Calculate the IQR\n",
    "iqr = q3 - q1\n",
    "\n",
    "# Print the results\n",
    "print(\"First Quartile (Q1):\", q1)\n",
    "print(\"Third Quartile (Q3):\", q3)\n",
    "print(\"Interquartile Range (IQR):\", iqr)"
   ]
  },
  {
   "cell_type": "code",
   "execution_count": 5,
   "id": "da9b1308",
   "metadata": {},
   "outputs": [
    {
     "data": {
      "image/png": "[encoded data removed]",
      "text/plain": [
       "<Figure size 1000x500 with 3 Axes>"
      ]
     },
     "metadata": {},
     "output_type": "display_data"
    }
   ],
   "source": [
    "# Create a figure with 3 subplots\n",
    "fig, axs = plt.subplots(1, 3, figsize=(10, 5))\n",
    "\n",
    "# Create a box plot for each column on a separate axis\n",
    "axs[0].boxplot(col1)\n",
    "axs[1].boxplot(col2)\n",
    "axs[2].boxplot(col3)\n",
    "\n",
    "# Add labels and title for each subplot\n",
    "axs[0].set_title('Column 1')\n",
    "axs[0].set_ylabel('Values')\n",
    "axs[1].set_title('Column 2')\n",
    "axs[1].set_ylabel('Values')\n",
    "axs[2].set_title('Column 3')\n",
    "axs[2].set_ylabel('Values')\n",
    "\n",
    "# Adjust the layout of the subplots\n",
    "plt.tight_layout()\n",
    "\n",
    "# Show the plot\n",
    "plt.show()"
   ]
  },
  {
   "cell_type": "code",
   "execution_count": 6,
   "id": "28568519",
   "metadata": {},
   "outputs": [
    {
     "name": "stdout",
     "output_type": "stream",
     "text": [
      "Total NULL Values in each columns\n",
      "*********************************\n",
      "age                         0\n",
      "anaemia                     0\n",
      "creatinine_phosphokinase    0\n",
      "diabetes                    0\n",
      "ejection_fraction           0\n",
      "high_blood_pressure         0\n",
      "platelets                   0\n",
      "serum_creatinine            0\n",
      "serum_sodium                0\n",
      "sex                         0\n",
      "smoking                     0\n",
      "time                        0\n",
      "cp                          0\n",
      "Cholesterol                 0\n",
      "MaxHR                       0\n",
      "Height                      0\n",
      "Weight                      0\n",
      "DEATH_EVENT                 0\n",
      "dtype: int64\n"
     ]
    }
   ],
   "source": [
    "# Check the total missing values in each column.\n",
    "print(\"Total NULL Values in each columns\")\n",
    "print(\"*********************************\")\n",
    "print(heart_faliure_data.isnull().sum())"
   ]
  },
  {
   "cell_type": "code",
   "execution_count": 7,
   "id": "73d63fa1",
   "metadata": {},
   "outputs": [
    {
     "data": {
      "text/html": [
       "<div>\n",
       "<style scoped>\n",
       "    .dataframe tbody tr th:only-of-type {\n",
       "        vertical-align: middle;\n",
       "    }\n",
       "\n",
       "    .dataframe tbody tr th {\n",
       "        vertical-align: top;\n",
       "    }\n",
       "\n",
       "    .dataframe thead th {\n",
       "        text-align: right;\n",
       "    }\n",
       "</style>\n",
       "<table border=\"1\" class=\"dataframe\">\n",
       "  <thead>\n",
       "    <tr style=\"text-align: right;\">\n",
       "      <th></th>\n",
       "      <th>count</th>\n",
       "      <th>mean</th>\n",
       "      <th>std</th>\n",
       "      <th>min</th>\n",
       "      <th>25%</th>\n",
       "      <th>50%</th>\n",
       "      <th>75%</th>\n",
       "      <th>max</th>\n",
       "    </tr>\n",
       "  </thead>\n",
       "  <tbody>\n",
       "    <tr>\n",
       "      <th>age</th>\n",
       "      <td>299.0</td>\n",
       "      <td>60.833893</td>\n",
       "      <td>11.894809</td>\n",
       "      <td>40.000000</td>\n",
       "      <td>51.000000</td>\n",
       "      <td>60.000000</td>\n",
       "      <td>70.000000</td>\n",
       "      <td>95.000000</td>\n",
       "    </tr>\n",
       "    <tr>\n",
       "      <th>anaemia</th>\n",
       "      <td>299.0</td>\n",
       "      <td>0.431438</td>\n",
       "      <td>0.496107</td>\n",
       "      <td>0.000000</td>\n",
       "      <td>0.000000</td>\n",
       "      <td>0.000000</td>\n",
       "      <td>1.000000</td>\n",
       "      <td>1.000000</td>\n",
       "    </tr>\n",
       "    <tr>\n",
       "      <th>creatinine_phosphokinase</th>\n",
       "      <td>299.0</td>\n",
       "      <td>581.839465</td>\n",
       "      <td>970.287881</td>\n",
       "      <td>23.000000</td>\n",
       "      <td>116.500000</td>\n",
       "      <td>250.000000</td>\n",
       "      <td>582.000000</td>\n",
       "      <td>7861.000000</td>\n",
       "    </tr>\n",
       "    <tr>\n",
       "      <th>diabetes</th>\n",
       "      <td>299.0</td>\n",
       "      <td>0.418060</td>\n",
       "      <td>0.494067</td>\n",
       "      <td>0.000000</td>\n",
       "      <td>0.000000</td>\n",
       "      <td>0.000000</td>\n",
       "      <td>1.000000</td>\n",
       "      <td>1.000000</td>\n",
       "    </tr>\n",
       "    <tr>\n",
       "      <th>ejection_fraction</th>\n",
       "      <td>299.0</td>\n",
       "      <td>38.083612</td>\n",
       "      <td>11.834841</td>\n",
       "      <td>14.000000</td>\n",
       "      <td>30.000000</td>\n",
       "      <td>38.000000</td>\n",
       "      <td>45.000000</td>\n",
       "      <td>80.000000</td>\n",
       "    </tr>\n",
       "    <tr>\n",
       "      <th>high_blood_pressure</th>\n",
       "      <td>299.0</td>\n",
       "      <td>0.351171</td>\n",
       "      <td>0.478136</td>\n",
       "      <td>0.000000</td>\n",
       "      <td>0.000000</td>\n",
       "      <td>0.000000</td>\n",
       "      <td>1.000000</td>\n",
       "      <td>1.000000</td>\n",
       "    </tr>\n",
       "    <tr>\n",
       "      <th>platelets</th>\n",
       "      <td>299.0</td>\n",
       "      <td>263358.029264</td>\n",
       "      <td>97804.236869</td>\n",
       "      <td>25100.000000</td>\n",
       "      <td>212500.000000</td>\n",
       "      <td>262000.000000</td>\n",
       "      <td>303500.000000</td>\n",
       "      <td>850000.000000</td>\n",
       "    </tr>\n",
       "    <tr>\n",
       "      <th>serum_creatinine</th>\n",
       "      <td>299.0</td>\n",
       "      <td>1.393880</td>\n",
       "      <td>1.034510</td>\n",
       "      <td>0.500000</td>\n",
       "      <td>0.900000</td>\n",
       "      <td>1.100000</td>\n",
       "      <td>1.400000</td>\n",
       "      <td>9.400000</td>\n",
       "    </tr>\n",
       "    <tr>\n",
       "      <th>serum_sodium</th>\n",
       "      <td>299.0</td>\n",
       "      <td>136.625418</td>\n",
       "      <td>4.412477</td>\n",
       "      <td>113.000000</td>\n",
       "      <td>134.000000</td>\n",
       "      <td>137.000000</td>\n",
       "      <td>140.000000</td>\n",
       "      <td>148.000000</td>\n",
       "    </tr>\n",
       "    <tr>\n",
       "      <th>sex</th>\n",
       "      <td>299.0</td>\n",
       "      <td>0.648829</td>\n",
       "      <td>0.478136</td>\n",
       "      <td>0.000000</td>\n",
       "      <td>0.000000</td>\n",
       "      <td>1.000000</td>\n",
       "      <td>1.000000</td>\n",
       "      <td>1.000000</td>\n",
       "    </tr>\n",
       "    <tr>\n",
       "      <th>smoking</th>\n",
       "      <td>299.0</td>\n",
       "      <td>0.321070</td>\n",
       "      <td>0.467670</td>\n",
       "      <td>0.000000</td>\n",
       "      <td>0.000000</td>\n",
       "      <td>0.000000</td>\n",
       "      <td>1.000000</td>\n",
       "      <td>1.000000</td>\n",
       "    </tr>\n",
       "    <tr>\n",
       "      <th>time</th>\n",
       "      <td>299.0</td>\n",
       "      <td>130.260870</td>\n",
       "      <td>77.614208</td>\n",
       "      <td>4.000000</td>\n",
       "      <td>73.000000</td>\n",
       "      <td>115.000000</td>\n",
       "      <td>203.000000</td>\n",
       "      <td>285.000000</td>\n",
       "    </tr>\n",
       "    <tr>\n",
       "      <th>cp</th>\n",
       "      <td>299.0</td>\n",
       "      <td>0.966555</td>\n",
       "      <td>1.029213</td>\n",
       "      <td>0.000000</td>\n",
       "      <td>0.000000</td>\n",
       "      <td>1.000000</td>\n",
       "      <td>2.000000</td>\n",
       "      <td>3.000000</td>\n",
       "    </tr>\n",
       "    <tr>\n",
       "      <th>Cholesterol</th>\n",
       "      <td>299.0</td>\n",
       "      <td>242.207358</td>\n",
       "      <td>75.102908</td>\n",
       "      <td>0.000000</td>\n",
       "      <td>201.000000</td>\n",
       "      <td>237.000000</td>\n",
       "      <td>277.000000</td>\n",
       "      <td>603.000000</td>\n",
       "    </tr>\n",
       "    <tr>\n",
       "      <th>MaxHR</th>\n",
       "      <td>299.0</td>\n",
       "      <td>138.638796</td>\n",
       "      <td>23.720902</td>\n",
       "      <td>82.000000</td>\n",
       "      <td>122.000000</td>\n",
       "      <td>140.000000</td>\n",
       "      <td>155.000000</td>\n",
       "      <td>190.000000</td>\n",
       "    </tr>\n",
       "    <tr>\n",
       "      <th>Height</th>\n",
       "      <td>299.0</td>\n",
       "      <td>68.833944</td>\n",
       "      <td>2.780809</td>\n",
       "      <td>61.477809</td>\n",
       "      <td>66.970143</td>\n",
       "      <td>68.589270</td>\n",
       "      <td>70.979847</td>\n",
       "      <td>76.709835</td>\n",
       "    </tr>\n",
       "    <tr>\n",
       "      <th>Weight</th>\n",
       "      <td>299.0</td>\n",
       "      <td>186.410264</td>\n",
       "      <td>19.930600</td>\n",
       "      <td>135.655876</td>\n",
       "      <td>171.640522</td>\n",
       "      <td>184.461812</td>\n",
       "      <td>199.374369</td>\n",
       "      <td>241.893563</td>\n",
       "    </tr>\n",
       "    <tr>\n",
       "      <th>DEATH_EVENT</th>\n",
       "      <td>299.0</td>\n",
       "      <td>0.321070</td>\n",
       "      <td>0.467670</td>\n",
       "      <td>0.000000</td>\n",
       "      <td>0.000000</td>\n",
       "      <td>0.000000</td>\n",
       "      <td>1.000000</td>\n",
       "      <td>1.000000</td>\n",
       "    </tr>\n",
       "  </tbody>\n",
       "</table>\n",
       "</div>"
      ],
      "text/plain": [
       "                          count           mean           std           min  \\\n",
       "age                       299.0      60.833893     11.894809     40.000000   \n",
       "anaemia                   299.0       0.431438      0.496107      0.000000   \n",
       "creatinine_phosphokinase  299.0     581.839465    970.287881     23.000000   \n",
       "diabetes                  299.0       0.418060      0.494067      0.000000   \n",
       "ejection_fraction         299.0      38.083612     11.834841     14.000000   \n",
       "high_blood_pressure       299.0       0.351171      0.478136      0.000000   \n",
       "platelets                 299.0  263358.029264  97804.236869  25100.000000   \n",
       "serum_creatinine          299.0       1.393880      1.034510      0.500000   \n",
       "serum_sodium              299.0     136.625418      4.412477    113.000000   \n",
       "sex                       299.0       0.648829      0.478136      0.000000   \n",
       "smoking                   299.0       0.321070      0.467670      0.000000   \n",
       "time                      299.0     130.260870     77.614208      4.000000   \n",
       "cp                        299.0       0.966555      1.029213      0.000000   \n",
       "Cholesterol               299.0     242.207358     75.102908      0.000000   \n",
       "MaxHR                     299.0     138.638796     23.720902     82.000000   \n",
       "Height                    299.0      68.833944      2.780809     61.477809   \n",
       "Weight                    299.0     186.410264     19.930600    135.655876   \n",
       "DEATH_EVENT               299.0       0.321070      0.467670      0.000000   \n",
       "\n",
       "                                    25%            50%            75%  \\\n",
       "age                           51.000000      60.000000      70.000000   \n",
       "anaemia                        0.000000       0.000000       1.000000   \n",
       "creatinine_phosphokinase     116.500000     250.000000     582.000000   \n",
       "diabetes                       0.000000       0.000000       1.000000   \n",
       "ejection_fraction             30.000000      38.000000      45.000000   \n",
       "high_blood_pressure            0.000000       0.000000       1.000000   \n",
       "platelets                 212500.000000  262000.000000  303500.000000   \n",
       "serum_creatinine               0.900000       1.100000       1.400000   \n",
       "serum_sodium                 134.000000     137.000000     140.000000   \n",
       "sex                            0.000000       1.000000       1.000000   \n",
       "smoking                        0.000000       0.000000       1.000000   \n",
       "time                          73.000000     115.000000     203.000000   \n",
       "cp                             0.000000       1.000000       2.000000   \n",
       "Cholesterol                  201.000000     237.000000     277.000000   \n",
       "MaxHR                        122.000000     140.000000     155.000000   \n",
       "Height                        66.970143      68.589270      70.979847   \n",
       "Weight                       171.640522     184.461812     199.374369   \n",
       "DEATH_EVENT                    0.000000       0.000000       1.000000   \n",
       "\n",
       "                                    max  \n",
       "age                           95.000000  \n",
       "anaemia                        1.000000  \n",
       "creatinine_phosphokinase    7861.000000  \n",
       "diabetes                       1.000000  \n",
       "ejection_fraction             80.000000  \n",
       "high_blood_pressure            1.000000  \n",
       "platelets                 850000.000000  \n",
       "serum_creatinine               9.400000  \n",
       "serum_sodium                 148.000000  \n",
       "sex                            1.000000  \n",
       "smoking                        1.000000  \n",
       "time                         285.000000  \n",
       "cp                             3.000000  \n",
       "Cholesterol                  603.000000  \n",
       "MaxHR                        190.000000  \n",
       "Height                        76.709835  \n",
       "Weight                       241.893563  \n",
       "DEATH_EVENT                    1.000000  "
      ]
     },
     "execution_count": 7,
     "metadata": {},
     "output_type": "execute_result"
    }
   ],
   "source": [
    "heart_faliure_data.describe().T"
   ]
  },
  {
   "cell_type": "code",
   "execution_count": 8,
   "id": "c06cf2fa",
   "metadata": {},
   "outputs": [
    {
     "data": {
      "text/html": [
       "<div>\n",
       "<style scoped>\n",
       "    .dataframe tbody tr th:only-of-type {\n",
       "        vertical-align: middle;\n",
       "    }\n",
       "\n",
       "    .dataframe tbody tr th {\n",
       "        vertical-align: top;\n",
       "    }\n",
       "\n",
       "    .dataframe thead th {\n",
       "        text-align: right;\n",
       "    }\n",
       "</style>\n",
       "<table border=\"1\" class=\"dataframe\">\n",
       "  <thead>\n",
       "    <tr style=\"text-align: right;\">\n",
       "      <th></th>\n",
       "      <th>age</th>\n",
       "      <th>anaemia</th>\n",
       "      <th>creatinine_phosphokinase</th>\n",
       "      <th>diabetes</th>\n",
       "      <th>ejection_fraction</th>\n",
       "      <th>high_blood_pressure</th>\n",
       "      <th>platelets</th>\n",
       "      <th>serum_creatinine</th>\n",
       "      <th>serum_sodium</th>\n",
       "      <th>sex</th>\n",
       "      <th>smoking</th>\n",
       "      <th>time</th>\n",
       "      <th>cp</th>\n",
       "      <th>Cholesterol</th>\n",
       "      <th>MaxHR</th>\n",
       "      <th>Height</th>\n",
       "      <th>Weight</th>\n",
       "      <th>DEATH_EVENT</th>\n",
       "    </tr>\n",
       "  </thead>\n",
       "  <tbody>\n",
       "    <tr>\n",
       "      <th>count</th>\n",
       "      <td>299.000000</td>\n",
       "      <td>299.000000</td>\n",
       "      <td>299.000000</td>\n",
       "      <td>299.000000</td>\n",
       "      <td>299.000000</td>\n",
       "      <td>299.000000</td>\n",
       "      <td>299.000000</td>\n",
       "      <td>299.00000</td>\n",
       "      <td>299.000000</td>\n",
       "      <td>299.000000</td>\n",
       "      <td>299.00000</td>\n",
       "      <td>299.000000</td>\n",
       "      <td>299.000000</td>\n",
       "      <td>299.000000</td>\n",
       "      <td>299.000000</td>\n",
       "      <td>299.000000</td>\n",
       "      <td>299.000000</td>\n",
       "      <td>299.00000</td>\n",
       "    </tr>\n",
       "    <tr>\n",
       "      <th>mean</th>\n",
       "      <td>60.833893</td>\n",
       "      <td>0.431438</td>\n",
       "      <td>581.839465</td>\n",
       "      <td>0.418060</td>\n",
       "      <td>38.083612</td>\n",
       "      <td>0.351171</td>\n",
       "      <td>263358.029264</td>\n",
       "      <td>1.39388</td>\n",
       "      <td>136.625418</td>\n",
       "      <td>0.648829</td>\n",
       "      <td>0.32107</td>\n",
       "      <td>130.260870</td>\n",
       "      <td>0.966555</td>\n",
       "      <td>242.207358</td>\n",
       "      <td>138.638796</td>\n",
       "      <td>68.833944</td>\n",
       "      <td>186.410264</td>\n",
       "      <td>0.32107</td>\n",
       "    </tr>\n",
       "    <tr>\n",
       "      <th>std</th>\n",
       "      <td>11.894809</td>\n",
       "      <td>0.496107</td>\n",
       "      <td>970.287881</td>\n",
       "      <td>0.494067</td>\n",
       "      <td>11.834841</td>\n",
       "      <td>0.478136</td>\n",
       "      <td>97804.236869</td>\n",
       "      <td>1.03451</td>\n",
       "      <td>4.412477</td>\n",
       "      <td>0.478136</td>\n",
       "      <td>0.46767</td>\n",
       "      <td>77.614208</td>\n",
       "      <td>1.029213</td>\n",
       "      <td>75.102908</td>\n",
       "      <td>23.720902</td>\n",
       "      <td>2.780809</td>\n",
       "      <td>19.930600</td>\n",
       "      <td>0.46767</td>\n",
       "    </tr>\n",
       "    <tr>\n",
       "      <th>min</th>\n",
       "      <td>40.000000</td>\n",
       "      <td>0.000000</td>\n",
       "      <td>23.000000</td>\n",
       "      <td>0.000000</td>\n",
       "      <td>14.000000</td>\n",
       "      <td>0.000000</td>\n",
       "      <td>25100.000000</td>\n",
       "      <td>0.50000</td>\n",
       "      <td>113.000000</td>\n",
       "      <td>0.000000</td>\n",
       "      <td>0.00000</td>\n",
       "      <td>4.000000</td>\n",
       "      <td>0.000000</td>\n",
       "      <td>0.000000</td>\n",
       "      <td>82.000000</td>\n",
       "      <td>61.477809</td>\n",
       "      <td>135.655876</td>\n",
       "      <td>0.00000</td>\n",
       "    </tr>\n",
       "    <tr>\n",
       "      <th>25%</th>\n",
       "      <td>51.000000</td>\n",
       "      <td>0.000000</td>\n",
       "      <td>116.500000</td>\n",
       "      <td>0.000000</td>\n",
       "      <td>30.000000</td>\n",
       "      <td>0.000000</td>\n",
       "      <td>212500.000000</td>\n",
       "      <td>0.90000</td>\n",
       "      <td>134.000000</td>\n",
       "      <td>0.000000</td>\n",
       "      <td>0.00000</td>\n",
       "      <td>73.000000</td>\n",
       "      <td>0.000000</td>\n",
       "      <td>201.000000</td>\n",
       "      <td>122.000000</td>\n",
       "      <td>66.970143</td>\n",
       "      <td>171.640522</td>\n",
       "      <td>0.00000</td>\n",
       "    </tr>\n",
       "    <tr>\n",
       "      <th>50%</th>\n",
       "      <td>60.000000</td>\n",
       "      <td>0.000000</td>\n",
       "      <td>250.000000</td>\n",
       "      <td>0.000000</td>\n",
       "      <td>38.000000</td>\n",
       "      <td>0.000000</td>\n",
       "      <td>262000.000000</td>\n",
       "      <td>1.10000</td>\n",
       "      <td>137.000000</td>\n",
       "      <td>1.000000</td>\n",
       "      <td>0.00000</td>\n",
       "      <td>115.000000</td>\n",
       "      <td>1.000000</td>\n",
       "      <td>237.000000</td>\n",
       "      <td>140.000000</td>\n",
       "      <td>68.589270</td>\n",
       "      <td>184.461812</td>\n",
       "      <td>0.00000</td>\n",
       "    </tr>\n",
       "    <tr>\n",
       "      <th>75%</th>\n",
       "      <td>70.000000</td>\n",
       "      <td>1.000000</td>\n",
       "      <td>582.000000</td>\n",
       "      <td>1.000000</td>\n",
       "      <td>45.000000</td>\n",
       "      <td>1.000000</td>\n",
       "      <td>303500.000000</td>\n",
       "      <td>1.40000</td>\n",
       "      <td>140.000000</td>\n",
       "      <td>1.000000</td>\n",
       "      <td>1.00000</td>\n",
       "      <td>203.000000</td>\n",
       "      <td>2.000000</td>\n",
       "      <td>277.000000</td>\n",
       "      <td>155.000000</td>\n",
       "      <td>70.979847</td>\n",
       "      <td>199.374369</td>\n",
       "      <td>1.00000</td>\n",
       "    </tr>\n",
       "    <tr>\n",
       "      <th>max</th>\n",
       "      <td>95.000000</td>\n",
       "      <td>1.000000</td>\n",
       "      <td>7861.000000</td>\n",
       "      <td>1.000000</td>\n",
       "      <td>80.000000</td>\n",
       "      <td>1.000000</td>\n",
       "      <td>850000.000000</td>\n",
       "      <td>9.40000</td>\n",
       "      <td>148.000000</td>\n",
       "      <td>1.000000</td>\n",
       "      <td>1.00000</td>\n",
       "      <td>285.000000</td>\n",
       "      <td>3.000000</td>\n",
       "      <td>603.000000</td>\n",
       "      <td>190.000000</td>\n",
       "      <td>76.709835</td>\n",
       "      <td>241.893563</td>\n",
       "      <td>1.00000</td>\n",
       "    </tr>\n",
       "  </tbody>\n",
       "</table>\n",
       "</div>"
      ],
      "text/plain": [
       "              age     anaemia  creatinine_phosphokinase    diabetes  \\\n",
       "count  299.000000  299.000000                299.000000  299.000000   \n",
       "mean    60.833893    0.431438                581.839465    0.418060   \n",
       "std     11.894809    0.496107                970.287881    0.494067   \n",
       "min     40.000000    0.000000                 23.000000    0.000000   \n",
       "25%     51.000000    0.000000                116.500000    0.000000   \n",
       "50%     60.000000    0.000000                250.000000    0.000000   \n",
       "75%     70.000000    1.000000                582.000000    1.000000   \n",
       "max     95.000000    1.000000               7861.000000    1.000000   \n",
       "\n",
       "       ejection_fraction  high_blood_pressure      platelets  \\\n",
       "count         299.000000           299.000000     299.000000   \n",
       "mean           38.083612             0.351171  263358.029264   \n",
       "std            11.834841             0.478136   97804.236869   \n",
       "min            14.000000             0.000000   25100.000000   \n",
       "25%            30.000000             0.000000  212500.000000   \n",
       "50%            38.000000             0.000000  262000.000000   \n",
       "75%            45.000000             1.000000  303500.000000   \n",
       "max            80.000000             1.000000  850000.000000   \n",
       "\n",
       "       serum_creatinine  serum_sodium         sex    smoking        time  \\\n",
       "count         299.00000    299.000000  299.000000  299.00000  299.000000   \n",
       "mean            1.39388    136.625418    0.648829    0.32107  130.260870   \n",
       "std             1.03451      4.412477    0.478136    0.46767   77.614208   \n",
       "min             0.50000    113.000000    0.000000    0.00000    4.000000   \n",
       "25%             0.90000    134.000000    0.000000    0.00000   73.000000   \n",
       "50%             1.10000    137.000000    1.000000    0.00000  115.000000   \n",
       "75%             1.40000    140.000000    1.000000    1.00000  203.000000   \n",
       "max             9.40000    148.000000    1.000000    1.00000  285.000000   \n",
       "\n",
       "               cp  Cholesterol       MaxHR      Height      Weight  \\\n",
       "count  299.000000   299.000000  299.000000  299.000000  299.000000   \n",
       "mean     0.966555   242.207358  138.638796   68.833944  186.410264   \n",
       "std      1.029213    75.102908   23.720902    2.780809   19.930600   \n",
       "min      0.000000     0.000000   82.000000   61.477809  135.655876   \n",
       "25%      0.000000   201.000000  122.000000   66.970143  171.640522   \n",
       "50%      1.000000   237.000000  140.000000   68.589270  184.461812   \n",
       "75%      2.000000   277.000000  155.000000   70.979847  199.374369   \n",
       "max      3.000000   603.000000  190.000000   76.709835  241.893563   \n",
       "\n",
       "       DEATH_EVENT  \n",
       "count    299.00000  \n",
       "mean       0.32107  \n",
       "std        0.46767  \n",
       "min        0.00000  \n",
       "25%        0.00000  \n",
       "50%        0.00000  \n",
       "75%        1.00000  \n",
       "max        1.00000  "
      ]
     },
     "execution_count": 8,
     "metadata": {},
     "output_type": "execute_result"
    }
   ],
   "source": [
    "heart_faliure_data.describe()"
   ]
  },
  {
   "cell_type": "markdown",
   "id": "373eecfd",
   "metadata": {},
   "source": [
    "# Feature selection"
   ]
  },
  {
   "cell_type": "markdown",
   "id": "4d74ffa3",
   "metadata": {},
   "source": [
    "### correlation analysis"
   ]
  },
  {
   "cell_type": "code",
   "execution_count": 9,
   "id": "fa74dd5c",
   "metadata": {},
   "outputs": [
    {
     "data": {
      "text/plain": [
       "<Axes: >"
      ]
     },
     "execution_count": 9,
     "metadata": {},
     "output_type": "execute_result"
    },
    {
     "data": {
      "image/png": "[encoded data removed]",
      "text/plain": [
       "<Figure size 1000x800 with 2 Axes>"
      ]
     },
     "metadata": {},
     "output_type": "display_data"
    }
   ],
   "source": [
    "cor=heart_faliure_data.corr()\n",
    "\n",
    "plt.figure(figsize=(10,8))\n",
    "sns.heatmap(cor,linewidth=.1,annot=True,fmt=\".2f\")"
   ]
  },
  {
   "cell_type": "code",
   "execution_count": 10,
   "id": "b3bc283a",
   "metadata": {},
   "outputs": [
    {
     "name": "stdout",
     "output_type": "stream",
     "text": [
      "Columns sorted in ascending order of correlation with the output column:\n",
      "DEATH_EVENT                 1.000000\n",
      "serum_creatinine            0.294278\n",
      "age                         0.253729\n",
      "cp                          0.154846\n",
      "high_blood_pressure         0.079351\n",
      "anaemia                     0.066270\n",
      "creatinine_phosphokinase    0.062728\n",
      "Cholesterol                 0.045008\n",
      "Weight                      0.038607\n",
      "Height                      0.033432\n",
      "diabetes                   -0.001943\n",
      "sex                        -0.004316\n",
      "MaxHR                      -0.010080\n",
      "smoking                    -0.012623\n",
      "platelets                  -0.049139\n",
      "serum_sodium               -0.195204\n",
      "ejection_fraction          -0.268603\n",
      "time                       -0.526964\n",
      "Name: DEATH_EVENT, dtype: float64\n"
     ]
    }
   ],
   "source": [
    "# Calculate the correlation coefficients between the output variable and each input variable\n",
    "correlations = heart_faliure_data.corr()['DEATH_EVENT']\n",
    "\n",
    "# Sort the correlations in ascending order\n",
    "sorted_correlations = correlations.sort_values(ascending=False)\n",
    "\n",
    "# Print the sorted list of input variables in ascending order of correlation with the output variable\n",
    "print(\"Columns sorted in ascending order of correlation with the output column:\")\n",
    "print(sorted_correlations)\n"
   ]
  },
  {
   "cell_type": "markdown",
   "id": "7a42a8cf",
   "metadata": {},
   "source": [
    "### Split the data into train test split"
   ]
  },
  {
   "cell_type": "code",
   "execution_count": 11,
   "id": "2b1e06b2",
   "metadata": {},
   "outputs": [
    {
     "data": {
      "text/plain": [
       "Index(['age', 'anaemia', 'creatinine_phosphokinase', 'diabetes',\n",
       "       'ejection_fraction', 'high_blood_pressure', 'platelets',\n",
       "       'serum_creatinine', 'serum_sodium', 'sex', 'smoking', 'time', 'cp',\n",
       "       'Cholesterol', 'MaxHR', 'Height', 'Weight', 'DEATH_EVENT'],\n",
       "      dtype='object')"
      ]
     },
     "execution_count": 11,
     "metadata": {},
     "output_type": "execute_result"
    }
   ],
   "source": [
    "heart_faliure_data.columns"
   ]
  },
  {
   "cell_type": "code",
   "execution_count": 12,
   "id": "60c73e6f",
   "metadata": {},
   "outputs": [],
   "source": [
    "x=heart_faliure_data[[\"serum_creatinine\",\"age\",\"cp\",\"high_blood_pressure\",\"anaemia\",\"creatinine_phosphokinase\",\"Cholesterol\",\"Weight\"]]\n",
    "# creatinine_phosphokinase,platelets,serum_creatinine,serum_sodium,Cholesterol,Weight\n",
    "\n",
    "y=heart_faliure_data['DEATH_EVENT']\n",
    "\n",
    "x_train,x_test,y_train,y_test=train_test_split(x,y,test_size=0.2)"
   ]
  },
  {
   "cell_type": "markdown",
   "id": "91bc613c",
   "metadata": {},
   "source": [
    "### standardized the data"
   ]
  },
  {
   "cell_type": "code",
   "execution_count": 13,
   "id": "2a8e4925",
   "metadata": {},
   "outputs": [],
   "source": [
    "sc = StandardScaler()\n",
    "x_train = sc.fit_transform(x_train)\n",
    "x_test = sc.transform(x_test)\n",
    "\n",
    "# from sklearn.preprocessing import MinMaxScaler\n",
    "# # Create a MinMaxScaler object\n",
    "# scaler = MinMaxScaler()\n",
    "\n",
    "# # Fit the scaler to the data and transform the data\n",
    "# X_normalized = scaler.fit_transform(x)"
   ]
  },
  {
   "cell_type": "markdown",
   "id": "3ad209f4",
   "metadata": {},
   "source": [
    "# PCA"
   ]
  },
  {
   "cell_type": "code",
   "execution_count": 14,
   "id": "173a5ad3",
   "metadata": {},
   "outputs": [
    {
     "name": "stdout",
     "output_type": "stream",
     "text": [
      "Accuracy: 0.7166666666666667\n"
     ]
    }
   ],
   "source": [
    "# Create a PCA object with the desired number of components\n",
    "pca = PCA(n_components=5)\n",
    "\n",
    "# Fit the PCA model to the training data\n",
    "pca.fit(x_train)\n",
    "\n",
    "# Transform the training and test data using the PCA model\n",
    "x_train_pca = pca.transform(x_train)\n",
    "x_test_pca = pca.transform(x_test)\n",
    "\n",
    "# Train a logistic regression model on the transformed data\n",
    "model = LogisticRegression()\n",
    "model.fit(x_train_pca, y_train)\n",
    "\n",
    "# Evaluate the model on the test data\n",
    "score = model.score(x_test_pca, y_test)\n",
    "print(\"Accuracy:\", score)"
   ]
  },
  {
   "cell_type": "markdown",
   "id": "0ef7ce7d",
   "metadata": {},
   "source": [
    "# SMOTE"
   ]
  },
  {
   "cell_type": "code",
   "execution_count": 15,
   "id": "022d46a2",
   "metadata": {},
   "outputs": [
    {
     "data": {
      "text/plain": [
       "0    203\n",
       "1     96\n",
       "Name: DEATH_EVENT, dtype: int64"
      ]
     },
     "execution_count": 15,
     "metadata": {},
     "output_type": "execute_result"
    }
   ],
   "source": [
    "heart_faliure_data[\"DEATH_EVENT\"].value_counts()"
   ]
  },
  {
   "cell_type": "code",
   "execution_count": 16,
   "id": "39dd5db2",
   "metadata": {},
   "outputs": [
    {
     "name": "stdout",
     "output_type": "stream",
     "text": [
      "Number of transactions X__train dataset:  (239, 8)\n",
      "Number of transactions y__train dataset:  (239,)\n",
      "Number of transactions X__test dataset:  (60, 8)\n",
      "Number of transactions y__test dataset:  (60,)\n"
     ]
    }
   ],
   "source": [
    "print(\"Number of transactions X__train dataset: \", x_train.shape)  \n",
    "print(\"Number of transactions y__train dataset: \", y_train.shape)  \n",
    "print(\"Number of transactions X__test dataset: \", x_test.shape)  \n",
    "print(\"Number of transactions y__test dataset: \", y_test.shape)  "
   ]
  },
  {
   "cell_type": "code",
   "execution_count": 17,
   "id": "ea430149",
   "metadata": {},
   "outputs": [
    {
     "name": "stdout",
     "output_type": "stream",
     "text": [
      "Before Over Sampling, count of the label '1': 77\n",
      "Before Over Sampling, count of the label '0': 162 \n",
      "\n",
      "After Over Sampling, the shape of the train_X: (324, 8)\n",
      "After Over Sampling, the shape of the train_y: (324,) \n",
      "\n",
      "After Over Sampling, count of the label '1': 162\n",
      "After Over Sampling, count of the label '0': 162\n"
     ]
    }
   ],
   "source": [
    "# importing SMOTE module from imblearn library  \n",
    "# pip install imblearn (if you don't have imblearn in your system)  \n",
    "print(\"Before Over Sampling, count of the label '1': {}\".format(sum(y_train == 1)))  \n",
    "print(\"Before Over Sampling, count of the label '0': {} \\n\".format(sum(y_train == 0)))  \n",
    "\n",
    "sm1 = SMOTE(random_state = 2)  \n",
    "x_train_res, y_train_res = sm1.fit_resample(x_train, y_train.ravel())  \n",
    "print('After Over Sampling, the shape of the train_X: {}'.format(x_train_res.shape))  \n",
    "print('After Over Sampling, the shape of the train_y: {} \\n'.format(y_train_res.shape))  \n",
    "print(\"After Over Sampling, count of the label '1': {}\".format(sum(y_train_res == 1)))  \n",
    "print(\"After Over Sampling, count of the label '0': {}\".format(sum(y_train_res == 0)))  "
   ]
  },
  {
   "cell_type": "markdown",
   "id": "091ee16c",
   "metadata": {},
   "source": [
    "### Apply machine learning classification algorithm"
   ]
  },
  {
   "cell_type": "code",
   "execution_count": 18,
   "id": "35ba5848",
   "metadata": {},
   "outputs": [
    {
     "name": "stdout",
     "output_type": "stream",
     "text": [
      "Accuracy: 0.6666666666666666\n"
     ]
    }
   ],
   "source": [
    "# Create a logistic regression object\n",
    "logreg = LogisticRegression()\n",
    "\n",
    "# Fit the model using the training data\n",
    "logreg.fit(x_train_res, y_train_res)\n",
    "\n",
    "# Make predictions on the testing data\n",
    "y_pred = logreg.predict(x_test)\n",
    "\n",
    "# Calculate the accuracy of the model\n",
    "accuracy_lg = accuracy_score(y_test, y_pred)\n",
    "print(\"Accuracy:\", accuracy_lg)"
   ]
  },
  {
   "cell_type": "code",
   "execution_count": 19,
   "id": "912c84aa",
   "metadata": {},
   "outputs": [
    {
     "name": "stdout",
     "output_type": "stream",
     "text": [
      "Accuracy: 0.6333333333333333\n"
     ]
    }
   ],
   "source": [
    "# Create a logistic regression object\n",
    "svm = SVC()\n",
    "\n",
    "# Fit the model using the training data\n",
    "svm.fit(x_train_res, y_train_res)\n",
    "\n",
    "# Make predictions on the testing data\n",
    "y_pred_svm= svm.predict(x_test)\n",
    "\n",
    "# Calculate the accuracy of the model\n",
    "accuracy_svm = accuracy_score(y_pred_svm, y_test)\n",
    "print(\"Accuracy:\", accuracy_svm)"
   ]
  },
  {
   "cell_type": "code",
   "execution_count": 20,
   "id": "f9e15a6b",
   "metadata": {},
   "outputs": [
    {
     "name": "stdout",
     "output_type": "stream",
     "text": [
      "Accuracy: 0.6666666666666666\n"
     ]
    }
   ],
   "source": [
    "bayes=GaussianNB()\n",
    "\n",
    "# Fit the model using the training data\n",
    "bayes.fit(x_train_res, y_train_res)\n",
    "\n",
    "# Make predictions on the testing data\n",
    "y_pred_bayes= bayes.predict(x_test)\n",
    "\n",
    "# Calculate the accuracy of the model\n",
    "accuracy_bayes = accuracy_score(y_pred_bayes, y_test)\n",
    "print(\"Accuracy:\", accuracy_bayes)"
   ]
  },
  {
   "cell_type": "code",
   "execution_count": 21,
   "id": "2571e18a",
   "metadata": {},
   "outputs": [
    {
     "name": "stdout",
     "output_type": "stream",
     "text": [
      "Accuracy: 0.6\n"
     ]
    }
   ],
   "source": [
    "knn=KNeighborsClassifier()\n",
    "\n",
    "# Fit the model using the training data\n",
    "knn.fit(x_train_res, y_train_res)\n",
    "\n",
    "# Make predictions on the testing data\n",
    "y_pred_knn= knn.predict(x_test)\n",
    "\n",
    "# Calculate the accuracy of the model\n",
    "accuracy_knn = accuracy_score(y_pred_knn, y_test)\n",
    "print(\"Accuracy:\", accuracy_knn)"
   ]
  },
  {
   "cell_type": "code",
   "execution_count": 22,
   "id": "f4f76b24",
   "metadata": {},
   "outputs": [
    {
     "name": "stdout",
     "output_type": "stream",
     "text": [
      "Accuracy: 0.7333333333333333\n"
     ]
    }
   ],
   "source": [
    "tree=DecisionTreeClassifier()\n",
    "\n",
    "# Fit the model using the training data\n",
    "tree.fit(x_train_res, y_train_res)\n",
    "\n",
    "# Make predictions on the testing data\n",
    "y_pred_tree= tree.predict(x_test)\n",
    "\n",
    "# Calculate the accuracy of the model\n",
    "accuracy_tree = accuracy_score(y_pred_tree, y_test)\n",
    "print(\"Accuracy:\", accuracy_tree)\n"
   ]
  },
  {
   "cell_type": "code",
   "execution_count": 23,
   "id": "fc37aaff",
   "metadata": {},
   "outputs": [
    {
     "name": "stdout",
     "output_type": "stream",
     "text": [
      "Accuracy: 0.7166666666666667\n"
     ]
    }
   ],
   "source": [
    "rf=RandomForestClassifier()\n",
    "# Fit the model using the training data\n",
    "rf.fit(x_train_res, y_train_res)\n",
    "\n",
    "# Make predictions on the testing data\n",
    "y_pred_rf= rf.predict(x_test)\n",
    "\n",
    "# Calculate the accuracy of the model\n",
    "accuracy_rf = accuracy_score(y_pred_rf, y_test)\n",
    "print(\"Accuracy:\", accuracy_rf)\n"
   ]
  },
  {
   "cell_type": "markdown",
   "id": "7dd3ec62",
   "metadata": {},
   "source": [
    "## Cross Validation"
   ]
  },
  {
   "cell_type": "code",
   "execution_count": 24,
   "id": "433ecb13",
   "metadata": {},
   "outputs": [
    {
     "name": "stdout",
     "output_type": "stream",
     "text": [
      "Accuracy scores: [0.61538462 0.72307692 0.72307692 0.63076923 0.640625  ]\n",
      "Mean accuracy: 0.67\n",
      "Standard deviation: 0.05\n"
     ]
    }
   ],
   "source": [
    "from sklearn.model_selection import cross_val_score\n",
    "# Use cross-validation to evaluate the model\n",
    "\n",
    "# Create a logistic regression model\n",
    "lg_model = LogisticRegression()\n",
    "\n",
    "lg_cross = cross_val_score(lg_model,x_train_res, y_train_res, cv=5)\n",
    "\n",
    "# Print the accuracy scores for each fold\n",
    "print(\"Accuracy scores:\", lg_cross)\n",
    "\n",
    "# Print the mean and standard deviation of the accuracy scores\n",
    "print(\"Mean accuracy: {:.2f}\".format(np.mean(lg_cross)))\n",
    "print(\"Standard deviation: {:.2f}\".format(np.std(lg_cross)))"
   ]
  },
  {
   "cell_type": "code",
   "execution_count": 25,
   "id": "767b6df0",
   "metadata": {},
   "outputs": [
    {
     "name": "stdout",
     "output_type": "stream",
     "text": [
      "Accuracy scores: [0.73846154 0.72307692 0.72307692 0.75384615 0.765625  ]\n",
      "Mean accuracy: 0.74\n",
      "Standard deviation: 0.02\n"
     ]
    }
   ],
   "source": [
    "from sklearn.model_selection import cross_val_score\n",
    "# Use cross-validation to evaluate the model\n",
    "\n",
    "# Create a logistic regression model\n",
    "svc_model = SVC()\n",
    "\n",
    "svm_cross = cross_val_score(svc_model,x_train_res, y_train_res, cv=5)\n",
    "\n",
    "# Print the accuracy scores for each fold\n",
    "print(\"Accuracy scores:\", svm_cross)\n",
    "\n",
    "# Print the mean and standard deviation of the accuracy scores\n",
    "print(\"Mean accuracy: {:.2f}\".format(np.mean(svm_cross)))\n",
    "print(\"Standard deviation: {:.2f}\".format(np.std(svm_cross)))"
   ]
  },
  {
   "cell_type": "code",
   "execution_count": 26,
   "id": "28ba8a2f",
   "metadata": {},
   "outputs": [
    {
     "name": "stdout",
     "output_type": "stream",
     "text": [
      "Accuracy scores: [0.75384615 0.72307692 0.8        0.70769231 0.75      ]\n",
      "Mean accuracy: 0.75\n",
      "Standard deviation: 0.03\n"
     ]
    }
   ],
   "source": [
    "from sklearn.model_selection import cross_val_score\n",
    "# Use cross-validation to evaluate the model\n",
    "\n",
    "# Create a logistic regression model\n",
    "knn_model = KNeighborsClassifier()\n",
    "\n",
    "knn_cross = cross_val_score(knn_model,x_train_res, y_train_res, cv=5)\n",
    "\n",
    "# Print the accuracy scores for each fold\n",
    "print(\"Accuracy scores:\", knn_cross)\n",
    "\n",
    "# Print the mean and standard deviation of the accuracy scores\n",
    "print(\"Mean accuracy: {:.2f}\".format(np.mean(knn_cross)))\n",
    "print(\"Standard deviation: {:.2f}\".format(np.std(knn_cross)))"
   ]
  },
  {
   "cell_type": "code",
   "execution_count": 27,
   "id": "16b58f5d",
   "metadata": {},
   "outputs": [
    {
     "name": "stdout",
     "output_type": "stream",
     "text": [
      "Accuracy scores: [0.66153846 0.72307692 0.76923077 0.8        0.71875   ]\n",
      "Mean accuracy: 0.73\n",
      "Standard deviation: 0.05\n"
     ]
    }
   ],
   "source": [
    "from sklearn.model_selection import cross_val_score\n",
    "# Use cross-validation to evaluate the model\n",
    "\n",
    "# Create a logistic regression model\n",
    "tree_model = DecisionTreeClassifier()\n",
    "\n",
    "tree_cross = cross_val_score(tree_model,x_train_res, y_train_res, cv=5)\n",
    "\n",
    "# Print the accuracy scores for each fold\n",
    "print(\"Accuracy scores:\", tree_cross)\n",
    "\n",
    "# Print the mean and standard deviation of the accuracy scores\n",
    "print(\"Mean accuracy: {:.2f}\".format(np.mean(tree_cross)))\n",
    "print(\"Standard deviation: {:.2f}\".format(np.std(tree_cross)))"
   ]
  },
  {
   "cell_type": "code",
   "execution_count": 28,
   "id": "f9be6642",
   "metadata": {},
   "outputs": [
    {
     "name": "stdout",
     "output_type": "stream",
     "text": [
      "Accuracy scores: [0.73846154 0.8        0.81538462 0.83076923 0.90625   ]\n",
      "Mean accuracy: 0.82\n",
      "Standard deviation: 0.05\n"
     ]
    }
   ],
   "source": [
    "from sklearn.model_selection import cross_val_score\n",
    "# Use cross-validation to evaluate the model\n",
    "\n",
    "# Create a logistic regression model\n",
    "rf_model = RandomForestClassifier()\n",
    "\n",
    "rf_cross = cross_val_score(rf_model, x_train_res, y_train_res, cv=5)\n",
    "\n",
    "# Print the accuracy scores for each fold\n",
    "print(\"Accuracy scores:\", rf_cross)\n",
    "\n",
    "# Print the mean and standard deviation of the accuracy scores\n",
    "print(\"Mean accuracy: {:.2f}\".format(np.mean(rf_cross)))\n",
    "print(\"Standard deviation: {:.2f}\".format(np.std(rf_cross)))"
   ]
  },
  {
   "cell_type": "code",
   "execution_count": 29,
   "id": "bfc33f0b",
   "metadata": {},
   "outputs": [
    {
     "name": "stdout",
     "output_type": "stream",
     "text": [
      "(239, 8)\n",
      "(60, 8)\n",
      "(239,)\n",
      "(60,)\n"
     ]
    }
   ],
   "source": [
    "print(x_train.shape)\n",
    "print(x_test.shape)\n",
    "print(y_train.shape)\n",
    "print(y_test.shape)"
   ]
  },
  {
   "cell_type": "markdown",
   "id": "ffe0c1bb",
   "metadata": {},
   "source": [
    "## Hyperparameter Tunining"
   ]
  },
  {
   "cell_type": "code",
   "execution_count": 30,
   "id": "a9f064f7",
   "metadata": {},
   "outputs": [
    {
     "name": "stdout",
     "output_type": "stream",
     "text": [
      "Best hyperparameters: {'C': 1, 'max_iter': 100, 'penalty': 'l1', 'solver': 'liblinear'}\n"
     ]
    },
    {
     "data": {
      "text/plain": [
       "0.6727403846153847"
      ]
     },
     "execution_count": 30,
     "metadata": {},
     "output_type": "execute_result"
    }
   ],
   "source": [
    "# Define the hyperparameters to tune\n",
    "hyperparameters = {'penalty': ['l1', 'l2'],\n",
    "                   'C': [0.01, 0.1, 1, 10],\n",
    "                   'solver': ['liblinear', 'saga'],\n",
    "                   'max_iter': [100, 500, 1000]}\n",
    "\n",
    "# Create a logistic regression model\n",
    "logreg = LogisticRegression()\n",
    "\n",
    "# Create a grid search object\n",
    "gridsearch_lg = GridSearchCV(logreg, hyperparameters, cv=5)\n",
    "\n",
    "# Fit the grid search object to the training data\n",
    "gridsearch_lg.fit(x_train_res, y_train_res)\n",
    "\n",
    "# Print the best hyperparameters\n",
    "print(\"Best hyperparameters:\", gridsearch_lg.best_params_)\n",
    "\n",
    "# Evaluate the model performance using the testing data\n",
    "y_pred = gridsearch_lg.predict(x_test)\n",
    "# acc_lg = accuracy_score(y_test, y_pred)\n",
    "# print(\"Accuracy:\", accuracy)\n",
    "\n",
    "lg_score=gridsearch_lg.best_score_\n",
    "lg_score"
   ]
  },
  {
   "cell_type": "code",
   "execution_count": 31,
   "id": "aa32d2ea",
   "metadata": {},
   "outputs": [
    {
     "name": "stdout",
     "output_type": "stream",
     "text": [
      "Best hyperparameters: {'C': 100, 'degree': 2, 'gamma': 'scale', 'kernel': 'rbf'}\n"
     ]
    },
    {
     "data": {
      "text/plain": [
       "0.805673076923077"
      ]
     },
     "execution_count": 31,
     "metadata": {},
     "output_type": "execute_result"
    }
   ],
   "source": [
    "# Define the parameter grid for hyperparameter tuning\n",
    "param_grid = {'C': [0.1, 1, 10, 100],\n",
    "              'kernel': ['linear', 'rbf', 'poly'],\n",
    "              'degree': [2, 3, 4],\n",
    "              'gamma': ['scale', 'auto']}\n",
    "\n",
    "# Create an SVM model object\n",
    "svm_model = SVC()\n",
    "\n",
    "# Create a GridSearchCV object to perform hyperparameter tuning\n",
    "gridsearch_svm = GridSearchCV(estimator=svm_model, param_grid=param_grid, cv=5, n_jobs=-1)\n",
    "\n",
    "# Fit the GridSearchCV object to the training data\n",
    "gridsearch_svm.fit(x_train_res, y_train_res)\n",
    "\n",
    "# Print the best hyperparameters found by GridSearchCV\n",
    "print(\"Best hyperparameters:\", gridsearch_svm.best_params_)\n",
    "\n",
    "# Evaluate the final model on the test set\n",
    "y_pred = gridsearch_svm.predict(x_test)\n",
    "\n",
    "svm_score=gridsearch_svm.best_score_\n",
    "svm_score"
   ]
  },
  {
   "cell_type": "code",
   "execution_count": 32,
   "id": "4f60d91b",
   "metadata": {},
   "outputs": [
    {
     "name": "stdout",
     "output_type": "stream",
     "text": [
      "Best hyperparameters: {'var_smoothing': 1e-09}\n"
     ]
    },
    {
     "data": {
      "text/plain": [
       "0.6416826923076923"
      ]
     },
     "execution_count": 32,
     "metadata": {},
     "output_type": "execute_result"
    }
   ],
   "source": [
    "# Define the parameter grid for hyperparameter tuning\n",
    "param_grid = {'var_smoothing': [1e-9, 1e-8, 1e-7, 1e-6, 1e-5]}\n",
    "\n",
    "# Create a Gaussian Naive Bayes model object\n",
    "nb_model = GaussianNB()\n",
    "\n",
    "# Create a GridSearchCV object to perform hyperparameter tuning\n",
    "gridsearch_nb = GridSearchCV(estimator=nb_model, param_grid=param_grid, cv=5, n_jobs=-1)\n",
    "\n",
    "# Fit the GridSearchCV object to the training data\n",
    "gridsearch_nb.fit(x_train_res, y_train_res)\n",
    "\n",
    "# Print the best hyperparameters found by GridSearchCV\n",
    "print(\"Best hyperparameters:\", gridsearch_nb.best_params_)\n",
    "nb_score=gridsearch_nb.best_score_\n",
    "nb_score"
   ]
  },
  {
   "cell_type": "code",
   "execution_count": 33,
   "id": "68fd6eed",
   "metadata": {},
   "outputs": [
    {
     "name": "stdout",
     "output_type": "stream",
     "text": [
      "Best parameters:  {'max_depth': 2, 'min_samples_leaf': 1, 'min_samples_split': 3}\n"
     ]
    },
    {
     "data": {
      "text/plain": [
       "0.7573581560283689"
      ]
     },
     "execution_count": 33,
     "metadata": {},
     "output_type": "execute_result"
    }
   ],
   "source": [
    "# Define the parameter grid for hyperparameter tuning\n",
    "param_grid = {\n",
    "    'max_depth': [2, 3, 4, 5],\n",
    "    'min_samples_split': [2, 3, 4],\n",
    "    'min_samples_leaf': [1, 2, 3],\n",
    "}\n",
    "\n",
    "# Create a decision tree model object\n",
    "clf_grid = DecisionTreeClassifier()\n",
    "\n",
    "# Create a GridSearchCV object to perform hyperparameter tuning\n",
    "grid_search = GridSearchCV(clf_grid, param_grid=param_grid, cv=5)\n",
    "\n",
    "# Fit the GridSearchCV object to the training data\n",
    "grid_search.fit(x_train, y_train)\n",
    "\n",
    "# Print the best hyperparameters found by GridSearchCV\n",
    "print(\"Best parameters: \", grid_search.best_params_)\n",
    "tree_score=grid_search.best_score_\n",
    "tree_score"
   ]
  },
  {
   "cell_type": "code",
   "execution_count": 34,
   "id": "47ddd00b",
   "metadata": {},
   "outputs": [
    {
     "name": "stdout",
     "output_type": "stream",
     "text": [
      "Fitting 5 folds for each of 180 candidates, totalling 900 fits\n",
      "Best hyperparameters: {'max_depth': 5, 'min_samples_leaf': 1, 'min_samples_split': 4, 'n_estimators': 100}\n"
     ]
    },
    {
     "data": {
      "text/plain": [
       "0.7363475177304964"
      ]
     },
     "execution_count": 34,
     "metadata": {},
     "output_type": "execute_result"
    }
   ],
   "source": [
    "# Define the parameter grid for hyperparameter tuning\n",
    "param_grid = {\n",
    "    'n_estimators': [100, 200, 300, 400, 500],\n",
    "    'max_depth': [5, 10, 15, 20],\n",
    "    'min_samples_split': [2, 4, 6],\n",
    "    'min_samples_leaf': [1, 2, 4]\n",
    "}\n",
    "\n",
    "# Create random forest regressor\n",
    "rf_grid = RandomForestClassifier(random_state=42)\n",
    "\n",
    "# Use GridSearchCV to find the best hyperparameters\n",
    "gridsearch_rf = GridSearchCV(estimator=rf_grid, param_grid=param_grid, cv=5, n_jobs=-1, verbose=1)\n",
    "\n",
    "# Fit the GridSearchCV object to the training data\n",
    "gridsearch_rf.fit(x_train, y_train)\n",
    "\n",
    "# Print best hyperparameters\n",
    "print(\"Best hyperparameters:\", gridsearch_rf.best_params_)\n",
    "rf_score=gridsearch_rf.best_score_\n",
    "rf_score"
   ]
  },
  {
   "cell_type": "code",
   "execution_count": 35,
   "id": "56b95b39",
   "metadata": {},
   "outputs": [
    {
     "name": "stdout",
     "output_type": "stream",
     "text": [
      "Best Hyperparameters: {'priors': None, 'var_smoothing': 1e-09}\n"
     ]
    },
    {
     "data": {
      "text/plain": [
       "0.6416826923076923"
      ]
     },
     "execution_count": 35,
     "metadata": {},
     "output_type": "execute_result"
    }
   ],
   "source": [
    "from sklearn.model_selection import GridSearchCV\n",
    "from sklearn.naive_bayes import GaussianNB\n",
    "\n",
    "# Create a Gaussian Naive Bayes classifier\n",
    "bayes_grid = GaussianNB()\n",
    "\n",
    "# Define the parameter grid for hyperparameter tuning\n",
    "param_grid_naves = {\n",
    "    'priors': [None, [0.1, 0.9], [0.2, 0.8]],  # Example priors, customize as needed\n",
    "    'var_smoothing': [1e-9, 1e-8, 1e-7]  # Example var_smoothing values, customize as needed\n",
    "}\n",
    "\n",
    "# Create a GridSearchCV object\n",
    "grid_search_naves = GridSearchCV(estimator=bayes, param_grid=param_grid_naves, scoring='accuracy', cv=5)\n",
    "\n",
    "# Fit the model using the resampled training data\n",
    "grid_search_naves.fit(x_train_res, y_train_res)\n",
    "\n",
    "# Get the best hyperparameters\n",
    "best_params_naves = grid_search_naves.best_params_\n",
    "print(\"Best Hyperparameters:\", best_params_naves)\n",
    "naves_score=grid_search_naves.best_score_\n",
    "naves_score"
   ]
  },
  {
   "cell_type": "code",
   "execution_count": 36,
   "id": "3fddac5d",
   "metadata": {},
   "outputs": [
    {
     "name": "stdout",
     "output_type": "stream",
     "text": [
      "Best Hyperparameters: {'priors': None, 'var_smoothing': 1e-09}\n"
     ]
    }
   ],
   "source": [
    "best_params_naves = grid_search_naves.best_params_\n",
    "print(\"Best Hyperparameters:\", best_params_naves)\n"
   ]
  },
  {
   "cell_type": "markdown",
   "id": "15f694a6",
   "metadata": {},
   "source": [
    "## Without parameter"
   ]
  },
  {
   "cell_type": "code",
   "execution_count": 37,
   "id": "ff9c007a",
   "metadata": {},
   "outputs": [
    {
     "data": {
      "text/html": [
       "<div>\n",
       "<style scoped>\n",
       "    .dataframe tbody tr th:only-of-type {\n",
       "        vertical-align: middle;\n",
       "    }\n",
       "\n",
       "    .dataframe tbody tr th {\n",
       "        vertical-align: top;\n",
       "    }\n",
       "\n",
       "    .dataframe thead th {\n",
       "        text-align: right;\n",
       "    }\n",
       "</style>\n",
       "<table border=\"1\" class=\"dataframe\">\n",
       "  <thead>\n",
       "    <tr style=\"text-align: right;\">\n",
       "      <th></th>\n",
       "      <th>Model</th>\n",
       "      <th>Score</th>\n",
       "    </tr>\n",
       "  </thead>\n",
       "  <tbody>\n",
       "    <tr>\n",
       "      <th>2</th>\n",
       "      <td>Decision Tree Classifier</td>\n",
       "      <td>0.733333</td>\n",
       "    </tr>\n",
       "    <tr>\n",
       "      <th>3</th>\n",
       "      <td>Random Forest Classifier</td>\n",
       "      <td>0.716667</td>\n",
       "    </tr>\n",
       "    <tr>\n",
       "      <th>0</th>\n",
       "      <td>Logistic Regression</td>\n",
       "      <td>0.666667</td>\n",
       "    </tr>\n",
       "    <tr>\n",
       "      <th>5</th>\n",
       "      <td>naives_Bayes</td>\n",
       "      <td>0.666667</td>\n",
       "    </tr>\n",
       "    <tr>\n",
       "      <th>4</th>\n",
       "      <td>SVM</td>\n",
       "      <td>0.633333</td>\n",
       "    </tr>\n",
       "    <tr>\n",
       "      <th>1</th>\n",
       "      <td>KNN</td>\n",
       "      <td>0.600000</td>\n",
       "    </tr>\n",
       "  </tbody>\n",
       "</table>\n",
       "</div>"
      ],
      "text/plain": [
       "                      Model     Score\n",
       "2  Decision Tree Classifier  0.733333\n",
       "3  Random Forest Classifier  0.716667\n",
       "0       Logistic Regression  0.666667\n",
       "5              naives_Bayes  0.666667\n",
       "4                       SVM  0.633333\n",
       "1                       KNN  0.600000"
      ]
     },
     "execution_count": 37,
     "metadata": {},
     "output_type": "execute_result"
    }
   ],
   "source": [
    "models = pd.DataFrame({\n",
    "    'Model' : ['Logistic Regression', 'KNN', 'Decision Tree Classifier', 'Random Forest Classifier',\"SVM\",\"naives_Bayes\"],\n",
    "    'Score' : [accuracy_lg, accuracy_knn, accuracy_tree, accuracy_rf,accuracy_svm,accuracy_bayes]\n",
    "})\n",
    "\n",
    "\n",
    "models.sort_values(by = 'Score', ascending = False)"
   ]
  },
  {
   "cell_type": "markdown",
   "id": "28f97457",
   "metadata": {},
   "source": [
    "## with parameter"
   ]
  },
  {
   "cell_type": "code",
   "execution_count": 38,
   "id": "06ec2a9a",
   "metadata": {},
   "outputs": [
    {
     "data": {
      "text/html": [
       "<div>\n",
       "<style scoped>\n",
       "    .dataframe tbody tr th:only-of-type {\n",
       "        vertical-align: middle;\n",
       "    }\n",
       "\n",
       "    .dataframe tbody tr th {\n",
       "        vertical-align: top;\n",
       "    }\n",
       "\n",
       "    .dataframe thead th {\n",
       "        text-align: right;\n",
       "    }\n",
       "</style>\n",
       "<table border=\"1\" class=\"dataframe\">\n",
       "  <thead>\n",
       "    <tr style=\"text-align: right;\">\n",
       "      <th></th>\n",
       "      <th>Model</th>\n",
       "      <th>Best Score</th>\n",
       "    </tr>\n",
       "  </thead>\n",
       "  <tbody>\n",
       "    <tr>\n",
       "      <th>1</th>\n",
       "      <td>SVM</td>\n",
       "      <td>0.805673</td>\n",
       "    </tr>\n",
       "    <tr>\n",
       "      <th>3</th>\n",
       "      <td>Decision Tree Classifier</td>\n",
       "      <td>0.757358</td>\n",
       "    </tr>\n",
       "    <tr>\n",
       "      <th>4</th>\n",
       "      <td>Random Forest Classifier</td>\n",
       "      <td>0.736348</td>\n",
       "    </tr>\n",
       "    <tr>\n",
       "      <th>0</th>\n",
       "      <td>Logistic Regression</td>\n",
       "      <td>0.672740</td>\n",
       "    </tr>\n",
       "    <tr>\n",
       "      <th>2</th>\n",
       "      <td>KNN</td>\n",
       "      <td>0.641683</td>\n",
       "    </tr>\n",
       "    <tr>\n",
       "      <th>5</th>\n",
       "      <td>naives_bayes</td>\n",
       "      <td>0.641683</td>\n",
       "    </tr>\n",
       "  </tbody>\n",
       "</table>\n",
       "</div>"
      ],
      "text/plain": [
       "                      Model  Best Score\n",
       "1                       SVM    0.805673\n",
       "3  Decision Tree Classifier    0.757358\n",
       "4  Random Forest Classifier    0.736348\n",
       "0       Logistic Regression    0.672740\n",
       "2                       KNN    0.641683\n",
       "5              naives_bayes    0.641683"
      ]
     },
     "execution_count": 38,
     "metadata": {},
     "output_type": "execute_result"
    }
   ],
   "source": [
    "models_param = pd.DataFrame({\n",
    "    'Model' : ['Logistic Regression',\"SVM\", 'KNN', 'Decision Tree Classifier', 'Random Forest Classifier',\"naives_bayes\"],\n",
    "    'Best Score' : [lg_score, svm_score,nb_score, tree_score,rf_score,naves_score]\n",
    "})\n",
    "\n",
    "\n",
    "models_param.sort_values(by = 'Best Score', ascending = False)"
   ]
  },
  {
   "cell_type": "code",
   "execution_count": 40,
   "id": "b5f7bb47",
   "metadata": {},
   "outputs": [],
   "source": [
    "# Saving the Model\n",
    "\n",
    "# Saving the Model\n",
    "filename = 'trained_model.sav'\n",
    "pickle.dump(gridsearch_svm, open(filename, 'wb'))\n",
    "\n",
    "# Load the saved model\n",
    "loaded_model = pickle.load(open('trained_model.sav', 'rb'))"
   ]
  },
  {
   "cell_type": "code",
   "execution_count": null,
   "id": "232a65b4",
   "metadata": {},
   "outputs": [],
   "source": []
  }
 ],
 "metadata": {
  "kernelspec": {
   "display_name": "Python 3 (ipykernel)",
   "language": "python",
   "name": "python3"
  },
  "language_info": {
   "codemirror_mode": {
    "name": "ipython",
    "version": 3
   },
   "file_extension": ".py",
   "mimetype": "text/x-python",
   "name": "python",
   "nbconvert_exporter": "python",
   "pygments_lexer": "ipython3",
   "version": "3.10.11"
  }
 },
 "nbformat": 4,
 "nbformat_minor": 5
}
